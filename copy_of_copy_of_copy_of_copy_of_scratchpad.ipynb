{
  "cells": [
    {
      "cell_type": "markdown",
      "metadata": {
        "id": "view-in-github",
        "colab_type": "text"
      },
      "source": [
        "<a href=\"https://colab.research.google.com/github/bonofaber/Low-Latency-Android-iOS-Linux-Windows-tvOS-macOS-Interactive-Audio-Platform/blob/master/copy_of_copy_of_copy_of_copy_of_scratchpad.ipynb\" target=\"_parent\"><img src=\"https://colab.research.google.com/assets/colab-badge.svg\" alt=\"Open In Colab\"/></a>"
      ]
    },
    {
      "cell_type": "code",
      "execution_count": null,
      "metadata": {
        "colab": {
          "base_uri": "https://localhost:8080/"
        },
        "id": "lIYdn1woOS1n",
        "outputId": "e546b2b6-64f3-4d05-9ce8-643ea187e4c7"
      },
      "outputs": [
        {
          "output_type": "stream",
          "name": "stdout",
          "text": [
            "   PassengerId  Survived  Pclass  \\\n",
            "0            1         0       3   \n",
            "1            2         1       1   \n",
            "2            3         1       3   \n",
            "\n",
            "                                                Name     Sex   Age  SibSp  \\\n",
            "0                            Braund, Mr. Owen Harris    male  22.0      1   \n",
            "1  Cumings, Mrs. John Bradley (Florence Briggs Th...  female  38.0      1   \n",
            "2                             Heikkinen, Miss. Laina  female  26.0      0   \n",
            "\n",
            "   Parch            Ticket     Fare Cabin Embarked  \n",
            "0      0         A/5 21171   7.2500   NaN        S  \n",
            "1      0          PC 17599  71.2833   C85        C  \n",
            "2      0  STON/O2. 3101282   7.9250   NaN        S  \n",
            "<class 'pandas.core.frame.DataFrame'>\n",
            "RangeIndex: 891 entries, 0 to 890\n",
            "Data columns (total 12 columns):\n",
            " #   Column       Non-Null Count  Dtype  \n",
            "---  ------       --------------  -----  \n",
            " 0   PassengerId  891 non-null    int64  \n",
            " 1   Survived     891 non-null    int64  \n",
            " 2   Pclass       891 non-null    int64  \n",
            " 3   Name         891 non-null    object \n",
            " 4   Sex          891 non-null    object \n",
            " 5   Age          891 non-null    float64\n",
            " 6   SibSp        891 non-null    int64  \n",
            " 7   Parch        891 non-null    int64  \n",
            " 8   Ticket       891 non-null    object \n",
            " 9   Fare         891 non-null    float64\n",
            " 10  Embarked     891 non-null    object \n",
            " 11  Family       891 non-null    int64  \n",
            "dtypes: float64(2), int64(6), object(4)\n",
            "memory usage: 83.7+ KB\n"
          ]
        }
      ],
      "source": [
        "import pandas as pd\n",
        "import numpy as np\n",
        "df = pd.read_csv('https://raw.githubusercontent.com/datasciencedojo/datasets/master/titanic.csv')\n",
        "#df = pd.read_csv('https://gist.githubusercontent.com/netj/8836201/raw/6f9306ad21398ea43cba4f7d537619d0e07d5ae3/iris.csv')\n",
        "#print(df.info())\n",
        "#print(df.describe())\n",
        "print(df.head(3))\n",
        "\n",
        "# 타이타닉 데이터 정제 - 결측치 대체\n",
        "age_mean = df['Age'].mean()\n",
        "df['Age'].fillna(age_mean, inplace = True)\n",
        "emb_mode = df['Embarked'].mode()[0]\n",
        "df['Embarked'].fillna(emb_mode, inplace = True)\n",
        "df = df.drop('Cabin', axis = 1)  # 생략\n",
        "\n",
        "# 독립 변수 축소, 생성\n",
        "df['Family'] = df['SibSp'] + df['Parch']\n",
        "df.info()"
      ]
    },
    {
      "cell_type": "code",
      "source": [
        "#정규화\n",
        "# iris 데이터 정규화\n",
        "\"\"\"\n",
        "from sklearn.preprocessing import MinMaxScaler\n",
        "scaler = MinMaxScaler()\n",
        "f = ['sepal.length','sepal.width','petal.length','petal.width']\n",
        "for i in f:\n",
        "  df[[i]]  = scaler.fit_transform(X[[i]])\n",
        "print(df.head()) \"\"\""
      ],
      "metadata": {
        "colab": {
          "base_uri": "https://localhost:8080/",
          "height": 54
        },
        "id": "S7u4WRJnAyLj",
        "outputId": "073ac950-5df8-4900-f1c4-b7ab9f0b1758"
      },
      "execution_count": null,
      "outputs": [
        {
          "output_type": "execute_result",
          "data": {
            "text/plain": [
              "\"\\nfrom sklearn.preprocessing import MinMaxScaler\\nscaler = MinMaxScaler()\\nf = ['sepal.length','sepal.width','petal.length','petal.width']\\nfor i in f:\\n  df[[i]]  = scaler.fit_transform(X[[i]])\\nprint(df.head()) \""
            ],
            "application/vnd.google.colaboratory.intrinsic+json": {
              "type": "string"
            }
          },
          "metadata": {},
          "execution_count": 24
        }
      ]
    },
    {
      "cell_type": "code",
      "source": [
        "# 문자 String을 숫자로 변환\n",
        "\n",
        "# Titanic : 라벨 인코딩\n",
        "\"\"\"\n",
        "from sklearn.preprocessing import LabelEncoder\n",
        "LE = LabelEncoder()\n",
        "#df1['Sex'] =  LE.fit_transform(df1['Sex'])\n",
        "#df1['Sex'].replace({'female': 0, \"male\" : 1}, inplace = True)\n",
        "df1.replace(['female', \"male\"], [0, 1], inplace = True)\n",
        "df1['Embarked'] = LE.fit_transform(df1['Embarked'])\n",
        "df1['Sex'].head()  \"\"\"\n",
        "\n",
        "# Titanic : 원핫 인코딩\n",
        "oh_sex = pd.get_dummies(df['Sex'])\n",
        "oh_embk = pd.get_dummies(df['Embarked'])\n",
        "df1 = pd.concat([df, oh_sex, oh_embk], axis = 1)\n",
        "print(df1.info())\n",
        "print(df1.head(2))"
      ],
      "metadata": {
        "id": "Vd8y6CcgfP86",
        "outputId": "3ffaefdf-fbfa-4880-c003-f7f2afefb959",
        "colab": {
          "base_uri": "https://localhost:8080/"
        }
      },
      "execution_count": null,
      "outputs": [
        {
          "output_type": "stream",
          "name": "stdout",
          "text": [
            "<class 'pandas.core.frame.DataFrame'>\n",
            "RangeIndex: 891 entries, 0 to 890\n",
            "Data columns (total 17 columns):\n",
            " #   Column       Non-Null Count  Dtype  \n",
            "---  ------       --------------  -----  \n",
            " 0   PassengerId  891 non-null    int64  \n",
            " 1   Survived     891 non-null    int64  \n",
            " 2   Pclass       891 non-null    int64  \n",
            " 3   Name         891 non-null    object \n",
            " 4   Sex          891 non-null    object \n",
            " 5   Age          891 non-null    float64\n",
            " 6   SibSp        891 non-null    int64  \n",
            " 7   Parch        891 non-null    int64  \n",
            " 8   Ticket       891 non-null    object \n",
            " 9   Fare         891 non-null    float64\n",
            " 10  Embarked     891 non-null    object \n",
            " 11  Family       891 non-null    int64  \n",
            " 12  female       891 non-null    uint8  \n",
            " 13  male         891 non-null    uint8  \n",
            " 14  C            891 non-null    uint8  \n",
            " 15  Q            891 non-null    uint8  \n",
            " 16  S            891 non-null    uint8  \n",
            "dtypes: float64(2), int64(6), object(4), uint8(5)\n",
            "memory usage: 88.0+ KB\n",
            "None\n",
            "   PassengerId  Survived  Pclass  \\\n",
            "0            1         0       3   \n",
            "1            2         1       1   \n",
            "\n",
            "                                                Name     Sex   Age  SibSp  \\\n",
            "0                            Braund, Mr. Owen Harris    male  22.0      1   \n",
            "1  Cumings, Mrs. John Bradley (Florence Briggs Th...  female  38.0      1   \n",
            "\n",
            "   Parch     Ticket     Fare Embarked  Family  female  male  C  Q  S  \n",
            "0      0  A/5 21171   7.2500        S       1       0     1  0  0  1  \n",
            "1      0   PC 17599  71.2833        C       1       1     0  1  0  0  \n"
          ]
        }
      ]
    },
    {
      "cell_type": "code",
      "source": [
        "# 독립변수 종속변수 데이터 선택\n",
        "# iris 데이터 선택\n",
        "#X = df[['sepal.length','sepal.width','petal.length','petal.width']]\n",
        "#y = df['variety']\n",
        "#print(X.head(3))\n",
        "#print('\\n', y.head(3))\n",
        "\n",
        "#Titanic 데이터 선택\n",
        "#X = df[['Pclass', 'Sex', 'Age', 'Fare', 'Embarked', 'Family']]\n",
        "X = df1[['Pclass', 'Age', 'Fare', 'Family', 'female', 'male', 'C', 'Q', 'S']] # 원핫 엔코딩 경우\n",
        "y = df1['Survived'] \n",
        "print(X.head(3))\n",
        "print('\\n', y.head(3))"
      ],
      "metadata": {
        "id": "HCL1zBpLfmG0",
        "colab": {
          "base_uri": "https://localhost:8080/"
        },
        "outputId": "c63ef5fd-8452-4baf-8f82-3f1dc061b0f4"
      },
      "execution_count": null,
      "outputs": [
        {
          "output_type": "stream",
          "name": "stdout",
          "text": [
            "   Pclass   Age     Fare  Family  female  male  C  Q  S\n",
            "0       3  22.0   7.2500       1       0     1  0  0  1\n",
            "1       1  38.0  71.2833       1       1     0  1  0  0\n",
            "2       3  26.0   7.9250       0       1     0  0  0  1\n",
            "\n",
            " 0    0\n",
            "1    1\n",
            "2    1\n",
            "Name: Survived, dtype: int64\n"
          ]
        }
      ]
    },
    {
      "cell_type": "code",
      "source": [
        "from sklearn.model_selection import train_test_split\n",
        "X_train, X_test, y_train, y_test = train_test_split(X, y, test_size = 0.2, random_state = 11)\n",
        "print(X_train.shape, X_test.shape, y_train.shape, y_test.shape)"
      ],
      "metadata": {
        "id": "H4C0B2hEgahd",
        "colab": {
          "base_uri": "https://localhost:8080/"
        },
        "outputId": "88397fb6-e272-4456-a5b2-1d6d5c058bb1"
      },
      "execution_count": null,
      "outputs": [
        {
          "output_type": "stream",
          "name": "stdout",
          "text": [
            "(712, 9) (179, 9) (712,) (179,)\n"
          ]
        }
      ]
    },
    {
      "cell_type": "code",
      "source": [],
      "metadata": {
        "id": "kM8JPQjXyKec"
      },
      "execution_count": null,
      "outputs": []
    },
    {
      "cell_type": "code",
      "source": [
        "# 모델 선택 및 학습 검정\n",
        "# 분류 모델 선택 - KNN K최근접 이윳\n",
        "#from sklearn.neighbors import KNeighborsClassifier\n",
        "#model = KNeighborsClassifier(n_neighbors = 5) # metric = 'euclidean' 선택적\n",
        "\n",
        "# 분류 모델 선택 - 의사결정나무 \n",
        "#from sklearn.tree import DecisionTreeClassifier\n",
        "#model = DecisionTreeClassifier(random_state = 11) #, max_depth = 3) #선택\n",
        "\n",
        "#분류모델 - svm,SVC\n",
        "from sklearn.svm import SVC\n",
        "model = SVC(kernel = 'rbf') # 옵션 'linear', C=1, gamma = 0.1)\n",
        "model.fit(X_train, y_train)     # 트레인 데이터로 학습\n",
        "pred = model.predict(X_test)    # 테스트 데이터로 예측 분류\n",
        "#print(pred[:5])\n",
        "\n",
        "# 성능평가 - 정확도 측정\n",
        "from sklearn.metrics import accuracy_score\n",
        "acc = accuracy_score(y_test, pred)   \n",
        "print(acc)      #n_neighbors = 3, 6, 9로 변경하면서 측정\n",
        "\n",
        "# 성능평가 - 오차행렬\n",
        "from sklearn.metrics import confusion_matrix\n",
        "mat = confusion_matrix(y_test,pred)\n",
        "print(mat)\n",
        "\n",
        "# 성능평가 - 분류보고서 classification_report() 이용한 평가 지표 계산\n",
        "from sklearn.metrics import classification_report\n",
        "rpt = classification_report(y_test,pred)\n",
        "print(rpt)\n"
      ],
      "metadata": {
        "id": "2EUpIfMqhKFu",
        "colab": {
          "base_uri": "https://localhost:8080/"
        },
        "outputId": "f9f41ab0-ea11-414d-9083-b41f41b07c48"
      },
      "execution_count": null,
      "outputs": [
        {
          "output_type": "stream",
          "name": "stdout",
          "text": [
            "0.7206703910614525\n",
            "[[110   8]\n",
            " [ 42  19]]\n",
            "              precision    recall  f1-score   support\n",
            "\n",
            "           0       0.72      0.93      0.81       118\n",
            "           1       0.70      0.31      0.43        61\n",
            "\n",
            "    accuracy                           0.72       179\n",
            "   macro avg       0.71      0.62      0.62       179\n",
            "weighted avg       0.72      0.72      0.68       179\n",
            "\n"
          ]
        }
      ]
    },
    {
      "cell_type": "code",
      "source": [
        "# 결과를 화일로 저장 및 확인\n",
        "#print(pred[:5])\n",
        "#print(y_test[:5])\n",
        "result = pd.DataFrame({'Real':y_test, 'Predicted':pred})\n",
        "#print(result.head())\n",
        "result.to_csv('result000.csv')#, index = False)\n",
        "conf = pd.read_csv('result000.csv', index_col = 'Unnamed: 0')\n",
        "print(conf.head())\n"
      ],
      "metadata": {
        "id": "bgRHa0X4yGDd",
        "outputId": "cd93f57e-9423-49d5-970c-c08deedfaf3d",
        "colab": {
          "base_uri": "https://localhost:8080/"
        }
      },
      "execution_count": null,
      "outputs": [
        {
          "output_type": "stream",
          "name": "stdout",
          "text": [
            "     Real  Predicted\n",
            "431     1          0\n",
            "821     1          0\n",
            "629     0          0\n",
            "626     0          0\n",
            "665     0          1\n"
          ]
        }
      ]
    },
    {
      "cell_type": "markdown",
      "source": [],
      "metadata": {
        "id": "bgbpq0Q1fMNt"
      }
    }
  ],
  "metadata": {
    "colab": {
      "provenance": [],
      "include_colab_link": true
    },
    "kernelspec": {
      "display_name": "Python 3",
      "name": "python3"
    }
  },
  "nbformat": 4,
  "nbformat_minor": 0
}