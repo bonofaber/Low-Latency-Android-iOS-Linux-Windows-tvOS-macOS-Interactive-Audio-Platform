{
  "cells": [
    {
      "cell_type": "markdown",
      "metadata": {
        "id": "view-in-github",
        "colab_type": "text"
      },
      "source": [
        "<a href=\"https://colab.research.google.com/github/bonofaber/Low-Latency-Android-iOS-Linux-Windows-tvOS-macOS-Interactive-Audio-Platform/blob/master/Copy_of_Copy_of_copy_of_copy_of_copy_of_copy_of_scratchpad.ipynb\" target=\"_parent\"><img src=\"https://colab.research.google.com/assets/colab-badge.svg\" alt=\"Open In Colab\"/></a>"
      ]
    },
    {
      "cell_type": "code",
      "execution_count": 91,
      "metadata": {
        "colab": {
          "base_uri": "https://localhost:8080/"
        },
        "id": "lIYdn1woOS1n",
        "outputId": "e2cf2914-86d1-4039-91e0-bfb4fcdca644"
      },
      "outputs": [
        {
          "output_type": "stream",
          "name": "stdout",
          "text": [
            "   PassengerId  Survived  Pclass  \\\n",
            "0            1         0       3   \n",
            "1            2         1       1   \n",
            "\n",
            "                                                Name     Sex   Age  SibSp  \\\n",
            "0                            Braund, Mr. Owen Harris    male  22.0      1   \n",
            "1  Cumings, Mrs. John Bradley (Florence Briggs Th...  female  38.0      1   \n",
            "\n",
            "   Parch     Ticket     Fare Cabin Embarked  \n",
            "0      0  A/5 21171   7.2500   NaN        S  \n",
            "1      0   PC 17599  71.2833   C85        C  \n",
            "<class 'pandas.core.frame.DataFrame'>\n",
            "RangeIndex: 891 entries, 0 to 890\n",
            "Data columns (total 12 columns):\n",
            " #   Column       Non-Null Count  Dtype  \n",
            "---  ------       --------------  -----  \n",
            " 0   PassengerId  891 non-null    int64  \n",
            " 1   Survived     891 non-null    int64  \n",
            " 2   Pclass       891 non-null    int64  \n",
            " 3   Name         891 non-null    object \n",
            " 4   Sex          891 non-null    object \n",
            " 5   Age          891 non-null    float64\n",
            " 6   SibSp        891 non-null    int64  \n",
            " 7   Parch        891 non-null    int64  \n",
            " 8   Ticket       891 non-null    object \n",
            " 9   Fare         891 non-null    float64\n",
            " 10  Embarked     891 non-null    object \n",
            " 11  Family       891 non-null    int64  \n",
            "dtypes: float64(2), int64(6), object(4)\n",
            "memory usage: 83.7+ KB\n"
          ]
        }
      ],
      "source": [
        "import pandas as pd\n",
        "import numpy as np\n",
        "df = pd.read_csv('https://raw.githubusercontent.com/datasciencedojo/datasets/master/titanic.csv')\n",
        "#df = pd.read_csv('https://gist.githubusercontent.com/netj/8836201/raw/6f9306ad21398ea43cba4f7d537619d0e07d5ae3/iris.csv')\n",
        "#print(df.info())\n",
        "#print(df.describe())\n",
        "print(df.head(2))\n",
        "\n",
        "# 타이타닉 데이터 정제 - 결측치 대체\n",
        "age_mean = df['Age'].mean()\n",
        "df['Age'].fillna(age_mean, inplace = True)\n",
        "emb_mode = df['Embarked'].mode()[0]\n",
        "df['Embarked'].fillna(emb_mode, inplace = True)\n",
        "df = df.drop('Cabin', axis = 1)  # 결측치 많은것 제외(나중에 선택안하면 됨)\n",
        "\n",
        "# 타이나틱 데이터 독립 변수 축소, 생성\n",
        "df['Family'] = df['SibSp'] + df['Parch']\n",
        "df.info()"
      ]
    },
    {
      "cell_type": "code",
      "source": [
        "#정규화\n",
        "# iris 데이터 정규화\n",
        "\"\"\"\n",
        "from sklearn.preprocessing import MinMaxScaler\n",
        "scaler = MinMaxScaler()\n",
        "#df[['sepal.length']] = scale.fit_transform(df{['sepal.length']})\n",
        "# 4개 변수 각각 하는 것 비해 for문으로 축소\n",
        "f = ['sepal.length','sepal.width','petal.length','petal.width']\n",
        "for i in f:\n",
        "  df[[i]]  = scaler.fit_transform(df[[i]])\n",
        "print(df.head(2)) \"\"\""
      ],
      "metadata": {
        "colab": {
          "base_uri": "https://localhost:8080/",
          "height": 72
        },
        "id": "S7u4WRJnAyLj",
        "outputId": "54ac44e3-f40b-4524-97b6-ced09535ed6e"
      },
      "execution_count": 60,
      "outputs": [
        {
          "output_type": "execute_result",
          "data": {
            "text/plain": [
              "\"\\nfrom sklearn.preprocessing import MinMaxScaler\\nscaler = MinMaxScaler()\\n#df[['sepal.length']] = scale.fit_transform(df{['sepal.length']})\\n# 4개 변수 각각 하는 것 비해 for문으로 축소\\nf = ['sepal.length','sepal.width','petal.length','petal.width']\\nfor i in f:\\n  df[[i]]  = scaler.fit_transform(df[[i]])\\nprint(df.head(2)) \""
            ],
            "application/vnd.google.colaboratory.intrinsic+json": {
              "type": "string"
            }
          },
          "metadata": {},
          "execution_count": 60
        }
      ]
    },
    {
      "cell_type": "code",
      "source": [
        "# 문자 String을 숫자로 변환\n",
        "# Titanic : 라벨 인코딩\n",
        "from sklearn.preprocessing import LabelEncoder\n",
        "LE = LabelEncoder()\n",
        "df['Sex'] =  LE.fit_transform(df['Sex'])\n",
        "df['Embarked'] = LE.fit_transform(df['Embarked'])\n",
        "#df1['Sex'].replace({'female': 0, \"male\" : 1}, inplace = True)\n",
        "#df1.replace(['female', \"male\"], [0, 1], inplace = True)\n",
        "\n",
        "#print(df['Sex'].head(),df['Embarked'].head())\n",
        "\n",
        "\"\"\"\n",
        "# Titanic : 원핫 인코딩\n",
        "oh_sex = pd.get_dummies(df['Sex'])\n",
        "oh_embk = pd.get_dummies(df['Embarked'])\n",
        "df1 = pd.concat([df, oh_sex, oh_embk], axis = 1)\n",
        "\"\"\"\n",
        "print(df.info())\n",
        "print(df.head(2))"
      ],
      "metadata": {
        "id": "Vd8y6CcgfP86",
        "outputId": "a7aec57a-d70b-4f4b-d44f-e75b4409f346",
        "colab": {
          "base_uri": "https://localhost:8080/"
        }
      },
      "execution_count": 64,
      "outputs": [
        {
          "output_type": "stream",
          "name": "stdout",
          "text": [
            "<class 'pandas.core.frame.DataFrame'>\n",
            "RangeIndex: 891 entries, 0 to 890\n",
            "Data columns (total 12 columns):\n",
            " #   Column       Non-Null Count  Dtype  \n",
            "---  ------       --------------  -----  \n",
            " 0   PassengerId  891 non-null    int64  \n",
            " 1   Survived     891 non-null    int64  \n",
            " 2   Pclass       891 non-null    int64  \n",
            " 3   Name         891 non-null    object \n",
            " 4   Sex          891 non-null    int64  \n",
            " 5   Age          891 non-null    float64\n",
            " 6   SibSp        891 non-null    int64  \n",
            " 7   Parch        891 non-null    int64  \n",
            " 8   Ticket       891 non-null    object \n",
            " 9   Fare         891 non-null    float64\n",
            " 10  Embarked     891 non-null    int64  \n",
            " 11  Family       891 non-null    int64  \n",
            "dtypes: float64(2), int64(8), object(2)\n",
            "memory usage: 83.7+ KB\n",
            "None\n",
            "   PassengerId  Survived  Pclass  \\\n",
            "0            1         0       3   \n",
            "1            2         1       1   \n",
            "\n",
            "                                                Name  Sex   Age  SibSp  Parch  \\\n",
            "0                            Braund, Mr. Owen Harris    1  22.0      1      0   \n",
            "1  Cumings, Mrs. John Bradley (Florence Briggs Th...    0  38.0      1      0   \n",
            "\n",
            "      Ticket     Fare  Embarked  Family  \n",
            "0  A/5 21171   7.2500         2       1  \n",
            "1   PC 17599  71.2833         0       1  \n"
          ]
        }
      ]
    },
    {
      "cell_type": "code",
      "source": [
        "# 독립변수 종속변수 데이터 선택\n",
        "# iris 데이터 선택\n",
        "#X = df[['sepal.length','sepal.width','petal.length','petal.width']]\n",
        "#y = df['variety']\n",
        "\n",
        "#Titanic 데이터 선택\n",
        "X = df[['Pclass', 'Sex', 'Age', 'Fare', 'Embarked', 'Family']]\n",
        "#X = df1[['Pclass', 'Age', 'Fare', 'Family', 'female', 'male', 'C', 'Q', 'S']] # 원핫 엔코딩 경우\n",
        "y = df['Survived'] \n",
        "print(X.head(3),'\\n', y.head(3))\n",
        "print(y.dtypes)\n"
      ],
      "metadata": {
        "id": "HCL1zBpLfmG0",
        "colab": {
          "base_uri": "https://localhost:8080/"
        },
        "outputId": "306735cc-27df-4681-b660-9678706038c0"
      },
      "execution_count": 66,
      "outputs": [
        {
          "output_type": "stream",
          "name": "stdout",
          "text": [
            "   Pclass  Sex   Age     Fare  Embarked  Family\n",
            "0       3    1  22.0   7.2500         2       1\n",
            "1       1    0  38.0  71.2833         0       1\n",
            "2       3    0  26.0   7.9250         2       0 \n",
            " 0    0\n",
            "1    1\n",
            "2    1\n",
            "Name: Survived, dtype: int64\n",
            "int64\n"
          ]
        }
      ]
    },
    {
      "cell_type": "code",
      "source": [
        "from sklearn.model_selection import train_test_split\n",
        "X_train, X_test, y_train, y_test = train_test_split(X, y, test_size = 0.2, random_state = 11)\n",
        "print('X_train.shape, X_test.shape \\n',X_train.shape, X_test.shape,'\\n', y_train.shape, y_test.shape)"
      ],
      "metadata": {
        "id": "H4C0B2hEgahd",
        "colab": {
          "base_uri": "https://localhost:8080/"
        },
        "outputId": "688fdbd3-2a99-4176-8b09-e50adaf552f7"
      },
      "execution_count": 69,
      "outputs": [
        {
          "output_type": "stream",
          "name": "stdout",
          "text": [
            "X_train.shape, X_test.shape \n",
            " (712, 6) (179, 6) \n",
            " (712,) (179,)\n"
          ]
        }
      ]
    },
    {
      "cell_type": "code",
      "source": [
        "# 모델 선택 및 학습 검정\n",
        "# 분류 모델 선택 - KNN K최근접 이윳\n",
        "#from sklearn.neighbors import KNeighborsClassifier\n",
        "#model = KNeighborsClassifier(n_neighbors = 5) # metric = 'euclidean' 선택적\n",
        "\n",
        "# 분류 모델 선택 - 의사결정나무 \n",
        "#from sklearn.tree import DecisionTreeClassifier\n",
        "#model = DecisionTreeClassifier(random_state = 11) #, max_depth = 3) #선택\n",
        "\n",
        "#분류모델 - svm,SVC\n",
        "#from sklearn.svm import SVC\n",
        "#model = SVC(kernel = 'rbf') # 옵션 'linear', C=1, gamma = 0.1)\n",
        "\n",
        "#분류모델 - LogisticRegression\n",
        "#from sklearn.linear_model import LogisticRegression\n",
        "#model = LogisticRegression()\n",
        "\n",
        "#분류모델 - RandomForestClassfier\n",
        "from sklearn.ensemble import RandomForestClassifier\n",
        "model = RandomForestClassifier(n_estimators = 50, max_depth = 3, random_state = 20)\n",
        "\n",
        "model.fit(X_train, y_train)     # 트레인 데이터로 학습\n",
        "pred = model.predict(X_test)    # 테스트 데이터로 예측 분류\n",
        "print(pred[:5])\n",
        "#print(model.score(X_test, y_test))"
      ],
      "metadata": {
        "id": "2EUpIfMqhKFu",
        "colab": {
          "base_uri": "https://localhost:8080/"
        },
        "outputId": "9caa0aa9-e4ef-40da-9fa8-99431c106e77"
      },
      "execution_count": 84,
      "outputs": [
        {
          "output_type": "stream",
          "name": "stdout",
          "text": [
            "[0 0 0 0 0]\n"
          ]
        }
      ]
    },
    {
      "cell_type": "code",
      "source": [
        "# 성능평가 - 정확도 측정\n",
        "from sklearn.metrics import accuracy_score, confusion_matrix, classification_report\n",
        "acc = accuracy_score(y_test, pred)   \n",
        "print('accuracy = ',acc)      #n_neighbors = 3, 6, 9로 변경하면서 측정\n",
        "\n",
        "# 성능평가 - 오차행렬\n",
        "#from sklearn.metrics import confusion_matrix\n",
        "mat = confusion_matrix(y_test,pred)\n",
        "print('\\n',mat)\n",
        "\n",
        "# 성능평가 - 분류보고서 classification_report() 이용한 평가 지표 계산\n",
        "#from sklearn.metrics import classification_report\n",
        "rpt = classification_report(y_test,pred)\n",
        "print(rpt)\n"
      ],
      "metadata": {
        "colab": {
          "base_uri": "https://localhost:8080/"
        },
        "id": "Pbg1shuiM5cu",
        "outputId": "3289c858-53ee-470a-931a-dfde8b1e055b"
      },
      "execution_count": 81,
      "outputs": [
        {
          "output_type": "stream",
          "name": "stdout",
          "text": [
            "accuracy =  0.8659217877094972\n",
            "\n",
            " [[112   6]\n",
            " [ 18  43]]\n",
            "              precision    recall  f1-score   support\n",
            "\n",
            "           0       0.86      0.95      0.90       118\n",
            "           1       0.88      0.70      0.78        61\n",
            "\n",
            "    accuracy                           0.87       179\n",
            "   macro avg       0.87      0.83      0.84       179\n",
            "weighted avg       0.87      0.87      0.86       179\n",
            "\n"
          ]
        }
      ]
    },
    {
      "cell_type": "code",
      "source": [
        "# 결과를 화일로 저장 및 확인\n",
        "#print(pred[:5])\n",
        "#print(y_test[:5])\n",
        "result = pd.DataFrame({'Real':y_test, 'Predicted':pred})\n",
        "#print(result.head())\n",
        "result.to_csv('result000.csv')#, index = False)\n",
        "conf = pd.read_csv('result000.csv', index_col = 'Unnamed: 0')\n",
        "print(conf.head())\n"
      ],
      "metadata": {
        "id": "bgRHa0X4yGDd",
        "outputId": "4eab156e-6b21-41c4-df88-22da9cb4436a",
        "colab": {
          "base_uri": "https://localhost:8080/"
        }
      },
      "execution_count": 89,
      "outputs": [
        {
          "output_type": "stream",
          "name": "stdout",
          "text": [
            "     Real  Predicted\n",
            "431     1          0\n",
            "821     1          0\n",
            "629     0          0\n",
            "626     0          0\n",
            "665     0          0\n"
          ]
        }
      ]
    },
    {
      "cell_type": "markdown",
      "source": [],
      "metadata": {
        "id": "bgbpq0Q1fMNt"
      }
    }
  ],
  "metadata": {
    "colab": {
      "provenance": [],
      "include_colab_link": true
    },
    "kernelspec": {
      "display_name": "Python 3",
      "name": "python3"
    }
  },
  "nbformat": 4,
  "nbformat_minor": 0
}